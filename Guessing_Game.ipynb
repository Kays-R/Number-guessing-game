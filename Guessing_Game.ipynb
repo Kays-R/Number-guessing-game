{
 "cells": [
  {
   "cell_type": "markdown",
   "id": "3d8831ac-c42a-4feb-b6a9-4c89cb6378d6",
   "metadata": {},
   "source": [
    "Hi, this is a simple number-guessing game in python for a simple project.\n",
    "\n",
    "Rules:\n",
    "\n",
    "    1. Once the game is initialized there will be a random number selected for the player to guess.\n",
    "    2. There will be 8 chances to guess the number\n",
    "    3. Based on the number the player inputs, the player will recieve a response that number is lower or higher.\n",
    "    4. Once the number is guessed or tries are over the game ends\n",
    "    5. Rules will change as the game is more streamlined."
   ]
  },
  {
   "cell_type": "markdown",
   "id": "78ce4bec-c23a-4dd4-9ae0-f3a1a7200adb",
   "metadata": {},
   "source": [
    "Note: \n",
    "\n",
    "    1. The game here is just a simple project.\n",
    "    2. There will be changes made to the game once proper code and direction are determined.\n"
   ]
  },
  {
   "cell_type": "code",
   "execution_count": 3,
   "id": "177e57fd-1775-49b1-8a5c-ddf129a40556",
   "metadata": {},
   "outputs": [
    {
     "name": "stdout",
     "output_type": "stream",
     "text": [
      "Welcome to the game. This ia a number guessing game. \n",
      " You have 8 tries to guess the number. Game Start\n"
     ]
    },
    {
     "name": "stdin",
     "output_type": "stream",
     "text": [
      "Please enter your guess here:  25\n"
     ]
    },
    {
     "name": "stdout",
     "output_type": "stream",
     "text": [
      "Your guess is lesser\n"
     ]
    },
    {
     "name": "stdin",
     "output_type": "stream",
     "text": [
      "Please enter your guess here:  35\n"
     ]
    },
    {
     "name": "stdout",
     "output_type": "stream",
     "text": [
      "Your guess is higher \n"
     ]
    },
    {
     "name": "stdin",
     "output_type": "stream",
     "text": [
      "Please enter your guess here:  30\n"
     ]
    },
    {
     "name": "stdout",
     "output_type": "stream",
     "text": [
      "Your guess is higher \n"
     ]
    },
    {
     "name": "stdin",
     "output_type": "stream",
     "text": [
      "Please enter your guess here:  27\n"
     ]
    },
    {
     "name": "stdout",
     "output_type": "stream",
     "text": [
      "Your guess is lesser\n"
     ]
    },
    {
     "name": "stdin",
     "output_type": "stream",
     "text": [
      "Please enter your guess here:  29\n"
     ]
    },
    {
     "name": "stdout",
     "output_type": "stream",
     "text": [
      "The number is 29 and you found it right !! You took 5 attempts to guess.\n"
     ]
    }
   ],
   "source": [
    "import random\n",
    "\n",
    "print('Welcome to the game. This ia a number guessing game. \\n You have 8 tries to guess the number. Game Start')\n",
    "\n",
    "guessing_number = random.randrange(100)\n",
    "\n",
    "tries = 8\n",
    "\n",
    "played_times = 0 \n",
    "\n",
    "while played_times < tries:\n",
    "    played_times+=1\n",
    "    guess = int(input('Please enter your guess here: '))\n",
    "\n",
    "    if guess == guessing_number:\n",
    "        print(f'The number is {guessing_number} and you found it right !! You took {played_times} attempts to guess.')\n",
    "        break\n",
    "\n",
    "    elif played_times >= tries and guess != guessing_number:\n",
    "        print(f'Oops sorry, The number is {guessing_number} better luck next time')\n",
    "\n",
    "    elif guess > guessing_number:\n",
    "        print('Your guess is higher ')\n",
    "\n",
    "    elif guess < guessing_number:\n",
    "        print('Your guess is lesser')\n"
   ]
  }
 ],
 "metadata": {
  "kernelspec": {
   "display_name": "Python 3 (ipykernel)",
   "language": "python",
   "name": "python3"
  },
  "language_info": {
   "codemirror_mode": {
    "name": "ipython",
    "version": 3
   },
   "file_extension": ".py",
   "mimetype": "text/x-python",
   "name": "python",
   "nbconvert_exporter": "python",
   "pygments_lexer": "ipython3",
   "version": "3.12.4"
  }
 },
 "nbformat": 4,
 "nbformat_minor": 5
}
